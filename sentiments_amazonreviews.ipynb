{
  "nbformat": 4,
  "nbformat_minor": 0,
  "metadata": {
    "colab": {
      "provenance": [],
      "authorship_tag": "ABX9TyNsoWMqaDTFfa3jX1kg8bDy",
      "include_colab_link": true
    },
    "kernelspec": {
      "name": "python3",
      "display_name": "Python 3"
    },
    "language_info": {
      "name": "python"
    }
  },
  "cells": [
    {
      "cell_type": "markdown",
      "metadata": {
        "id": "view-in-github",
        "colab_type": "text"
      },
      "source": [
        "<a href=\"https://colab.research.google.com/github/Ananya-AJ/SentimentAnalysis/blob/main/sentiments_amazonreviews.ipynb\" target=\"_parent\"><img src=\"https://colab.research.google.com/assets/colab-badge.svg\" alt=\"Open In Colab\"/></a>"
      ]
    },
    {
      "cell_type": "code",
      "execution_count": null,
      "metadata": {
        "id": "-HdaTU-8gwHs"
      },
      "outputs": [],
      "source": [
        "import pickle\n",
        "import pandas as pd\n",
        "import numpy as np"
      ]
    },
    {
      "cell_type": "code",
      "source": [
        "unpickled_df = pd.read_pickle(\"/content/Copy of cell_phone_reviews_df.pkl\") "
      ],
      "metadata": {
        "id": "oi47afxBhhd0"
      },
      "execution_count": null,
      "outputs": []
    },
    {
      "cell_type": "code",
      "source": [
        "unpickled_df.head()"
      ],
      "metadata": {
        "id": "Pbd0ak0itc-Y"
      },
      "execution_count": null,
      "outputs": []
    },
    {
      "cell_type": "code",
      "source": [
        "unpickled_df.isna().sum()"
      ],
      "metadata": {
        "colab": {
          "base_uri": "https://localhost:8080/"
        },
        "id": "W7VmtqDStetM",
        "outputId": "809fe537-439e-44ec-cb16-b8b467620a4b"
      },
      "execution_count": null,
      "outputs": [
        {
          "output_type": "execute_result",
          "data": {
            "text/plain": [
              "overall                 0\n",
              "verified                0\n",
              "reviewTime              0\n",
              "reviewerID              0\n",
              "asin                    0\n",
              "style              523196\n",
              "reviewerName          135\n",
              "reviewText            765\n",
              "summary               517\n",
              "unixReviewTime          0\n",
              "vote              1036403\n",
              "image             1101330\n",
              "dtype: int64"
            ]
          },
          "metadata": {},
          "execution_count": 8
        }
      ]
    },
    {
      "cell_type": "code",
      "source": [
        "review_df = unpickled_df.dropna(subset=['reviewText'])"
      ],
      "metadata": {
        "id": "CxDmrOwQwixx"
      },
      "execution_count": null,
      "outputs": []
    },
    {
      "cell_type": "code",
      "source": [
        "review_df.isna().sum()"
      ],
      "metadata": {
        "id": "NUaJ96OW3eP9",
        "colab": {
          "base_uri": "https://localhost:8080/"
        },
        "outputId": "a47805bd-ee0e-4293-bd10-72e7bca40cd8"
      },
      "execution_count": null,
      "outputs": [
        {
          "output_type": "execute_result",
          "data": {
            "text/plain": [
              "overall                 0\n",
              "verified                0\n",
              "reviewTime              0\n",
              "reviewerID              0\n",
              "asin                    0\n",
              "style              522865\n",
              "reviewerName          134\n",
              "reviewText              0\n",
              "summary               466\n",
              "unixReviewTime          0\n",
              "vote              1035671\n",
              "image             1100659\n",
              "dtype: int64"
            ]
          },
          "metadata": {},
          "execution_count": 9
        }
      ]
    },
    {
      "cell_type": "code",
      "source": [
        "import re\n",
        "import string"
      ],
      "metadata": {
        "id": "k_TH7wAfCQFf"
      },
      "execution_count": null,
      "outputs": []
    },
    {
      "cell_type": "code",
      "source": [
        "review_df[\"reviewText\"] = review_df['reviewText'].astype(str).str.lower()"
      ],
      "metadata": {
        "id": "7Z0zWRcyERyS",
        "colab": {
          "base_uri": "https://localhost:8080/"
        },
        "outputId": "0d5f9cdf-657b-4e6c-f323-8ff32e843b39"
      },
      "execution_count": null,
      "outputs": [
        {
          "output_type": "stream",
          "name": "stderr",
          "text": [
            "/usr/local/lib/python3.7/dist-packages/ipykernel_launcher.py:1: SettingWithCopyWarning: \n",
            "A value is trying to be set on a copy of a slice from a DataFrame.\n",
            "Try using .loc[row_indexer,col_indexer] = value instead\n",
            "\n",
            "See the caveats in the documentation: https://pandas.pydata.org/pandas-docs/stable/user_guide/indexing.html#returning-a-view-versus-a-copy\n",
            "  \"\"\"Entry point for launching an IPython kernel.\n"
          ]
        }
      ]
    },
    {
      "cell_type": "code",
      "source": [
        "review_df.head()"
      ],
      "metadata": {
        "id": "PX5rF9E8DHYS"
      },
      "execution_count": null,
      "outputs": []
    },
    {
      "cell_type": "code",
      "source": [
        "review_df['reviewText'] = review_df['reviewText'].astype(str).replace('^a-zA-Z','')"
      ],
      "metadata": {
        "id": "RgOpfE6caR1M"
      },
      "execution_count": null,
      "outputs": []
    },
    {
      "cell_type": "code",
      "source": [
        "review_df.head()"
      ],
      "metadata": {
        "id": "6DtsitD_aqAE"
      },
      "execution_count": null,
      "outputs": []
    },
    {
      "cell_type": "code",
      "source": [
        "!pip install nltk"
      ],
      "metadata": {
        "id": "rg_PMQXadOFJ"
      },
      "execution_count": null,
      "outputs": []
    },
    {
      "cell_type": "code",
      "source": [
        "from nltk.tokenize import RegexpTokenizer\n",
        "\n",
        "regexp = RegexpTokenizer('\\w+')\n",
        "\n",
        "review_df['review_token']=review_df['reviewText'].apply(regexp.tokenize)\n",
        "review_df.head(3)"
      ],
      "metadata": {
        "id": "NiqUMUVVdHEO"
      },
      "execution_count": null,
      "outputs": []
    },
    {
      "cell_type": "code",
      "source": [
        "import nltk\n",
        "\n",
        "nltk.download('stopwords')"
      ],
      "metadata": {
        "id": "pl0AlG2KasCm"
      },
      "execution_count": null,
      "outputs": []
    },
    {
      "cell_type": "code",
      "source": [
        "from nltk.corpus import stopwords\n",
        "\n",
        "stopwords = nltk.corpus.stopwords.words(\"english\")\n",
        "my_stopwords = ['https']\n",
        "stopwords.extend(my_stopwords)"
      ],
      "metadata": {
        "id": "779nit74b3QT"
      },
      "execution_count": null,
      "outputs": []
    },
    {
      "cell_type": "code",
      "source": [
        "review_df['review_token'] = review_df['review_token'].apply(lambda x: [item for item in x if item not in stopwords])\n",
        "review_df.head(3)"
      ],
      "metadata": {
        "id": "yvdKcOBWdA9I"
      },
      "execution_count": null,
      "outputs": []
    },
    {
      "cell_type": "code",
      "source": [
        "review_df['review_string'] = review_df['review_token'].apply(lambda x: ' '.join([item for item in x if len(item)>2]))"
      ],
      "metadata": {
        "colab": {
          "base_uri": "https://localhost:8080/"
        },
        "id": "NFgonA9siyDc",
        "outputId": "5f3dee18-047b-4128-9c9c-47a0362ff43f"
      },
      "execution_count": null,
      "outputs": [
        {
          "output_type": "stream",
          "name": "stderr",
          "text": [
            "/usr/local/lib/python3.7/dist-packages/ipykernel_launcher.py:1: SettingWithCopyWarning: \n",
            "A value is trying to be set on a copy of a slice from a DataFrame.\n",
            "Try using .loc[row_indexer,col_indexer] = value instead\n",
            "\n",
            "See the caveats in the documentation: https://pandas.pydata.org/pandas-docs/stable/user_guide/indexing.html#returning-a-view-versus-a-copy\n",
            "  \"\"\"Entry point for launching an IPython kernel.\n"
          ]
        }
      ]
    },
    {
      "cell_type": "code",
      "source": [
        "review_df[['reviewText', 'review_token', 'review_string']].head()"
      ],
      "metadata": {
        "colab": {
          "base_uri": "https://localhost:8080/",
          "height": 206
        },
        "id": "P0YMCBePjVB1",
        "outputId": "926bedc1-ab1b-4005-c798-f3970e06e8fd"
      },
      "execution_count": null,
      "outputs": [
        {
          "output_type": "execute_result",
          "data": {
            "text/plain": [
              "                                          reviewText  \\\n",
              "0  looks even better in person. be careful to not...   \n",
              "1  when you don't want to spend a whole lot of ca...   \n",
              "2  so the case came on time, i love the design. i...   \n",
              "3  don't care for it.  gave it as a gift and they...   \n",
              "4  i liked it because it was cute, but the studs ...   \n",
              "\n",
              "                                        review_token  \\\n",
              "0  [looks, even, better, person, careful, drop, p...   \n",
              "1  [want, spend, whole, lot, cash, want, great, d...   \n",
              "2  [case, came, time, love, design, actually, mis...   \n",
              "3                 [care, gave, gift, okay, expected]   \n",
              "4  [liked, cute, studs, fall, easily, protect, ph...   \n",
              "\n",
              "                                       review_string  \n",
              "0  looks even better person careful drop phone of...  \n",
              "1  want spend whole lot cash want great deal shop...  \n",
              "2  case came time love design actually missing st...  \n",
              "3                       care gave gift okay expected  \n",
              "4  liked cute studs fall easily protect phone wou...  "
            ],
            "text/html": [
              "\n",
              "  <div id=\"df-06a70e7b-7cfb-4895-9f7c-397958c048a4\">\n",
              "    <div class=\"colab-df-container\">\n",
              "      <div>\n",
              "<style scoped>\n",
              "    .dataframe tbody tr th:only-of-type {\n",
              "        vertical-align: middle;\n",
              "    }\n",
              "\n",
              "    .dataframe tbody tr th {\n",
              "        vertical-align: top;\n",
              "    }\n",
              "\n",
              "    .dataframe thead th {\n",
              "        text-align: right;\n",
              "    }\n",
              "</style>\n",
              "<table border=\"1\" class=\"dataframe\">\n",
              "  <thead>\n",
              "    <tr style=\"text-align: right;\">\n",
              "      <th></th>\n",
              "      <th>reviewText</th>\n",
              "      <th>review_token</th>\n",
              "      <th>review_string</th>\n",
              "    </tr>\n",
              "  </thead>\n",
              "  <tbody>\n",
              "    <tr>\n",
              "      <th>0</th>\n",
              "      <td>looks even better in person. be careful to not...</td>\n",
              "      <td>[looks, even, better, person, careful, drop, p...</td>\n",
              "      <td>looks even better person careful drop phone of...</td>\n",
              "    </tr>\n",
              "    <tr>\n",
              "      <th>1</th>\n",
              "      <td>when you don't want to spend a whole lot of ca...</td>\n",
              "      <td>[want, spend, whole, lot, cash, want, great, d...</td>\n",
              "      <td>want spend whole lot cash want great deal shop...</td>\n",
              "    </tr>\n",
              "    <tr>\n",
              "      <th>2</th>\n",
              "      <td>so the case came on time, i love the design. i...</td>\n",
              "      <td>[case, came, time, love, design, actually, mis...</td>\n",
              "      <td>case came time love design actually missing st...</td>\n",
              "    </tr>\n",
              "    <tr>\n",
              "      <th>3</th>\n",
              "      <td>don't care for it.  gave it as a gift and they...</td>\n",
              "      <td>[care, gave, gift, okay, expected]</td>\n",
              "      <td>care gave gift okay expected</td>\n",
              "    </tr>\n",
              "    <tr>\n",
              "      <th>4</th>\n",
              "      <td>i liked it because it was cute, but the studs ...</td>\n",
              "      <td>[liked, cute, studs, fall, easily, protect, ph...</td>\n",
              "      <td>liked cute studs fall easily protect phone wou...</td>\n",
              "    </tr>\n",
              "  </tbody>\n",
              "</table>\n",
              "</div>\n",
              "      <button class=\"colab-df-convert\" onclick=\"convertToInteractive('df-06a70e7b-7cfb-4895-9f7c-397958c048a4')\"\n",
              "              title=\"Convert this dataframe to an interactive table.\"\n",
              "              style=\"display:none;\">\n",
              "        \n",
              "  <svg xmlns=\"http://www.w3.org/2000/svg\" height=\"24px\"viewBox=\"0 0 24 24\"\n",
              "       width=\"24px\">\n",
              "    <path d=\"M0 0h24v24H0V0z\" fill=\"none\"/>\n",
              "    <path d=\"M18.56 5.44l.94 2.06.94-2.06 2.06-.94-2.06-.94-.94-2.06-.94 2.06-2.06.94zm-11 1L8.5 8.5l.94-2.06 2.06-.94-2.06-.94L8.5 2.5l-.94 2.06-2.06.94zm10 10l.94 2.06.94-2.06 2.06-.94-2.06-.94-.94-2.06-.94 2.06-2.06.94z\"/><path d=\"M17.41 7.96l-1.37-1.37c-.4-.4-.92-.59-1.43-.59-.52 0-1.04.2-1.43.59L10.3 9.45l-7.72 7.72c-.78.78-.78 2.05 0 2.83L4 21.41c.39.39.9.59 1.41.59.51 0 1.02-.2 1.41-.59l7.78-7.78 2.81-2.81c.8-.78.8-2.07 0-2.86zM5.41 20L4 18.59l7.72-7.72 1.47 1.35L5.41 20z\"/>\n",
              "  </svg>\n",
              "      </button>\n",
              "      \n",
              "  <style>\n",
              "    .colab-df-container {\n",
              "      display:flex;\n",
              "      flex-wrap:wrap;\n",
              "      gap: 12px;\n",
              "    }\n",
              "\n",
              "    .colab-df-convert {\n",
              "      background-color: #E8F0FE;\n",
              "      border: none;\n",
              "      border-radius: 50%;\n",
              "      cursor: pointer;\n",
              "      display: none;\n",
              "      fill: #1967D2;\n",
              "      height: 32px;\n",
              "      padding: 0 0 0 0;\n",
              "      width: 32px;\n",
              "    }\n",
              "\n",
              "    .colab-df-convert:hover {\n",
              "      background-color: #E2EBFA;\n",
              "      box-shadow: 0px 1px 2px rgba(60, 64, 67, 0.3), 0px 1px 3px 1px rgba(60, 64, 67, 0.15);\n",
              "      fill: #174EA6;\n",
              "    }\n",
              "\n",
              "    [theme=dark] .colab-df-convert {\n",
              "      background-color: #3B4455;\n",
              "      fill: #D2E3FC;\n",
              "    }\n",
              "\n",
              "    [theme=dark] .colab-df-convert:hover {\n",
              "      background-color: #434B5C;\n",
              "      box-shadow: 0px 1px 3px 1px rgba(0, 0, 0, 0.15);\n",
              "      filter: drop-shadow(0px 1px 2px rgba(0, 0, 0, 0.3));\n",
              "      fill: #FFFFFF;\n",
              "    }\n",
              "  </style>\n",
              "\n",
              "      <script>\n",
              "        const buttonEl =\n",
              "          document.querySelector('#df-06a70e7b-7cfb-4895-9f7c-397958c048a4 button.colab-df-convert');\n",
              "        buttonEl.style.display =\n",
              "          google.colab.kernel.accessAllowed ? 'block' : 'none';\n",
              "\n",
              "        async function convertToInteractive(key) {\n",
              "          const element = document.querySelector('#df-06a70e7b-7cfb-4895-9f7c-397958c048a4');\n",
              "          const dataTable =\n",
              "            await google.colab.kernel.invokeFunction('convertToInteractive',\n",
              "                                                     [key], {});\n",
              "          if (!dataTable) return;\n",
              "\n",
              "          const docLinkHtml = 'Like what you see? Visit the ' +\n",
              "            '<a target=\"_blank\" href=https://colab.research.google.com/notebooks/data_table.ipynb>data table notebook</a>'\n",
              "            + ' to learn more about interactive tables.';\n",
              "          element.innerHTML = '';\n",
              "          dataTable['output_type'] = 'display_data';\n",
              "          await google.colab.output.renderOutput(dataTable, element);\n",
              "          const docLink = document.createElement('div');\n",
              "          docLink.innerHTML = docLinkHtml;\n",
              "          element.appendChild(docLink);\n",
              "        }\n",
              "      </script>\n",
              "    </div>\n",
              "  </div>\n",
              "  "
            ]
          },
          "metadata": {},
          "execution_count": 20
        }
      ]
    },
    {
      "cell_type": "code",
      "source": [
        "all_words = ' '.join([word for word in review_df['review_string']])"
      ],
      "metadata": {
        "id": "7L56-uE-jkMx"
      },
      "execution_count": null,
      "outputs": []
    },
    {
      "cell_type": "code",
      "source": [
        "import nltk\n",
        "nltk.download('punkt')"
      ],
      "metadata": {
        "colab": {
          "base_uri": "https://localhost:8080/"
        },
        "id": "AAxsBDdNkDcO",
        "outputId": "e69ad83d-e875-4340-9ee2-1e588a1c759c"
      },
      "execution_count": null,
      "outputs": [
        {
          "output_type": "stream",
          "name": "stderr",
          "text": [
            "[nltk_data] Downloading package punkt to /root/nltk_data...\n",
            "[nltk_data]   Package punkt is already up-to-date!\n"
          ]
        },
        {
          "output_type": "execute_result",
          "data": {
            "text/plain": [
              "True"
            ]
          },
          "metadata": {},
          "execution_count": 22
        }
      ]
    },
    {
      "cell_type": "code",
      "source": [
        "tokenized_words = nltk.tokenize.word_tokenize(all_words)"
      ],
      "metadata": {
        "id": "-B1ZtMd5j73t"
      },
      "execution_count": null,
      "outputs": []
    },
    {
      "cell_type": "markdown",
      "source": [
        "frequency dictionary for each word"
      ],
      "metadata": {
        "id": "S8tfw4QRkyEa"
      }
    },
    {
      "cell_type": "code",
      "source": [
        "from nltk.probability import FreqDist\n",
        "\n",
        "fdist = FreqDist(tokenized_words)\n",
        "fdist"
      ],
      "metadata": {
        "colab": {
          "base_uri": "https://localhost:8080/"
        },
        "id": "9Yu4AW8Xk1ML",
        "outputId": "4eae9ea1-7e1f-4e4e-94b8-692fcc32e244"
      },
      "execution_count": null,
      "outputs": [
        {
          "output_type": "execute_result",
          "data": {
            "text/plain": [
              "FreqDist({'phone': 707591, 'case': 641982, 'great': 329624, 'one': 280474, 'screen': 271849, 'good': 257063, 'like': 243741, 'product': 196465, 'well': 194075, 'use': 179899, ...})"
            ]
          },
          "metadata": {},
          "execution_count": 24
        }
      ]
    },
    {
      "cell_type": "code",
      "source": [
        "review_df['review_fdist'] = review_df['review_token'].apply(lambda x: ' '.join([item for item in x if fdist[item] >= 1 ]))"
      ],
      "metadata": {
        "colab": {
          "base_uri": "https://localhost:8080/"
        },
        "id": "bYfIwryvk9Z7",
        "outputId": "cdc90146-eeeb-4cdb-d060-1bb22b8eeb66"
      },
      "execution_count": null,
      "outputs": [
        {
          "output_type": "stream",
          "name": "stderr",
          "text": [
            "/usr/local/lib/python3.7/dist-packages/ipykernel_launcher.py:1: SettingWithCopyWarning: \n",
            "A value is trying to be set on a copy of a slice from a DataFrame.\n",
            "Try using .loc[row_indexer,col_indexer] = value instead\n",
            "\n",
            "See the caveats in the documentation: https://pandas.pydata.org/pandas-docs/stable/user_guide/indexing.html#returning-a-view-versus-a-copy\n",
            "  \"\"\"Entry point for launching an IPython kernel.\n"
          ]
        }
      ]
    },
    {
      "cell_type": "code",
      "source": [
        "review_analysis = review_df[['reviewText','review_token','review_string','review_fdist']]"
      ],
      "metadata": {
        "id": "lKKW73Pxla5G"
      },
      "execution_count": null,
      "outputs": []
    },
    {
      "cell_type": "code",
      "source": [
        "review_analysis.head()"
      ],
      "metadata": {
        "id": "va6FW7GAlyYW"
      },
      "execution_count": null,
      "outputs": []
    },
    {
      "cell_type": "markdown",
      "source": [
        "#lemmitization"
      ],
      "metadata": {
        "id": "Kcxepq_ol9UZ"
      }
    },
    {
      "cell_type": "code",
      "source": [
        "# nltk.download('wordnet')\n",
        "# nltk.download('omw-1.4')"
      ],
      "metadata": {
        "id": "t4L_Q9i6l0da"
      },
      "execution_count": 2,
      "outputs": []
    },
    {
      "cell_type": "code",
      "source": [
        "# from nltk.stem import WordNetLemmatizer\n",
        "\n",
        "# wordnet_lem = WordNetLemmatizer()\n",
        "\n",
        "# review_analysis['review_lemma'] = review_analysis['review_fdist'].apply(wordnet_lem.lemmatize)"
      ],
      "metadata": {
        "id": "uZ43VPoRmCqL"
      },
      "execution_count": 3,
      "outputs": []
    },
    {
      "cell_type": "code",
      "source": [
        "review_analysis.head(3)"
      ],
      "metadata": {
        "id": "GT7xAf_YmPDU"
      },
      "execution_count": null,
      "outputs": []
    },
    {
      "cell_type": "code",
      "source": [
        "review_analysis['is_equal']= (review_analysis['review_fdist']==review_analysis['review_lemma'])"
      ],
      "metadata": {
        "id": "Pbw_mtDjmZbA"
      },
      "execution_count": null,
      "outputs": []
    },
    {
      "cell_type": "code",
      "source": [
        "review_analysis.is_equal.value_counts()"
      ],
      "metadata": {
        "id": "3qtgGB0rmr1k"
      },
      "execution_count": null,
      "outputs": []
    },
    {
      "cell_type": "code",
      "source": [
        "nltk.download('vader_lexicon')"
      ],
      "metadata": {
        "id": "S1x5QvDfrZ1m"
      },
      "execution_count": null,
      "outputs": []
    },
    {
      "cell_type": "code",
      "source": [
        "from nltk.sentiment import SentimentIntensityAnalyzer\n",
        "\n",
        "analyzer = SentimentIntensityAnalyzer()"
      ],
      "metadata": {
        "id": "4e4DqpV2t08Z"
      },
      "execution_count": null,
      "outputs": []
    },
    {
      "cell_type": "code",
      "source": [
        "review_analysis['polarity'] = review_analysis['review_lemma'].apply(lambda x: analyzer.polarity_scores(x))\n",
        "review_analysis.tail(3)"
      ],
      "metadata": {
        "id": "0Nv27CU_uvmV"
      },
      "execution_count": null,
      "outputs": []
    },
    {
      "cell_type": "code",
      "source": [
        "# analyzer = SentimentIntensityAnalyzer()\n",
        "# review_analysis['compound'] = [analyzer.polarity_scores(x)['compound'] for x in review_analysis['review_lemma']]\n",
        "# review_analysis['neg'] = [analyzer.polarity_scores(x)['neg'] for x in review_analysis['review_lemma']]\n",
        "# review_analysis['neu'] = [analyzer.polarity_scores(x)['neu'] for x in review_analysis['review_lemma']]\n",
        "# review_analysis['pos'] = [analyzer.polarity_scores(x)['pos'] for x in review_analysis['review_lemma']]"
      ],
      "metadata": {
        "id": "hhPwt1fOzNkc"
      },
      "execution_count": null,
      "outputs": []
    },
    {
      "cell_type": "code",
      "source": [
        "review_analysis.head()"
      ],
      "metadata": {
        "id": "3_WTaztltpf8"
      },
      "execution_count": null,
      "outputs": []
    },
    {
      "cell_type": "code",
      "source": [
        "from google.colab import drive\n",
        "drive.mount('/content/drive')"
      ],
      "metadata": {
        "colab": {
          "base_uri": "https://localhost:8080/"
        },
        "id": "Ll2W4VjpK49g",
        "outputId": "faaf5dbc-2f87-4a21-a984-098cd5d1c19c"
      },
      "execution_count": null,
      "outputs": [
        {
          "output_type": "stream",
          "name": "stdout",
          "text": [
            "Mounted at /content/drive\n"
          ]
        }
      ]
    },
    {
      "cell_type": "code",
      "source": [
        "review_df = pd.read_csv('/content/drive/My Drive/256vaderfiles/review_analysis_scores.csv')"
      ],
      "metadata": {
        "id": "b-ASSyIBQoxz"
      },
      "execution_count": null,
      "outputs": []
    },
    {
      "cell_type": "code",
      "source": [
        "review_df.head()"
      ],
      "metadata": {
        "id": "xI8LJhC9RJId"
      },
      "execution_count": null,
      "outputs": []
    },
    {
      "cell_type": "code",
      "source": [
        "review_df['sentiment'] = review_df['compound'].apply(lambda x: 1 if x >=0 else 0)\n",
        "review_df.head(4)"
      ],
      "metadata": {
        "id": "Mf4PJP7Hxaci"
      },
      "execution_count": null,
      "outputs": []
    },
    {
      "cell_type": "markdown",
      "source": [
        "##Use VADER to create labels"
      ],
      "metadata": {
        "id": "J-T8M2EEsqz2"
      }
    },
    {
      "cell_type": "code",
      "source": [
        "review_df.shape"
      ],
      "metadata": {
        "id": "jXNXNDMe7wrz"
      },
      "execution_count": null,
      "outputs": []
    },
    {
      "cell_type": "code",
      "source": [],
      "metadata": {
        "id": "NGkaro77mmin"
      },
      "execution_count": null,
      "outputs": []
    },
    {
      "cell_type": "code",
      "source": [
        "X = review_df.drop(['neg','neu','pos','sentiment','compound'],axis=1)"
      ],
      "metadata": {
        "id": "7a_ih9q2Tbh4"
      },
      "execution_count": null,
      "outputs": []
    },
    {
      "cell_type": "code",
      "source": [
        "y = review_df[['sentiment']]"
      ],
      "metadata": {
        "id": "jvS2oq5EUD51"
      },
      "execution_count": null,
      "outputs": []
    },
    {
      "cell_type": "code",
      "source": [
        "X.review_lemma = X.review_lemma.astype(str)\n"
      ],
      "metadata": {
        "id": "AokFKJlgA3JD"
      },
      "execution_count": null,
      "outputs": []
    },
    {
      "cell_type": "code",
      "source": [
        "phrase = np.array(X['review_lemma'])\n",
        "sentiments = np.array(y['sentiment'])"
      ],
      "metadata": {
        "id": "tAun1-WJ8n4V"
      },
      "execution_count": null,
      "outputs": []
    },
    {
      "cell_type": "code",
      "source": [
        "!pip install sklearn"
      ],
      "metadata": {
        "id": "dlQ9BC5y4uX8"
      },
      "execution_count": null,
      "outputs": []
    },
    {
      "cell_type": "code",
      "source": [
        "from sklearn.model_selection import train_test_split\n",
        "phrase_train, phrase_test,sentiments_train, sentiments_test = train_test_split(phrase,sentiments ,\n",
        "                                   random_state=104, \n",
        "                                   test_size=0.33)"
      ],
      "metadata": {
        "id": "1jygj1udsqQL"
      },
      "execution_count": null,
      "outputs": []
    },
    {
      "cell_type": "code",
      "source": [
        "# for i in range(0,len(X_train)-1):\n",
        "\n",
        "#     if type(X_train.iloc[i]['review_lemma']) != str:\n",
        "#         print(i)"
      ],
      "metadata": {
        "id": "7u7Z24tL3XOV"
      },
      "execution_count": null,
      "outputs": []
    },
    {
      "cell_type": "code",
      "source": [
        "from sklearn.feature_extraction.text import CountVectorizer, TfidfVectorizer\n",
        "cv = CountVectorizer(stop_words='english',max_features=10000)\n",
        "cv_train_features = cv.fit_transform(phrase_train)"
      ],
      "metadata": {
        "id": "nH_zWKfn9aAv"
      },
      "execution_count": null,
      "outputs": []
    },
    {
      "cell_type": "code",
      "source": [
        "cv_train_features.shape"
      ],
      "metadata": {
        "id": "jPtQVi45BU2p"
      },
      "execution_count": null,
      "outputs": []
    },
    {
      "cell_type": "code",
      "source": [
        "cv_test_features =  cv.transform(phrase_test)"
      ],
      "metadata": {
        "id": "JemuHV1JBhP_"
      },
      "execution_count": null,
      "outputs": []
    },
    {
      "cell_type": "code",
      "source": [
        "cv_test_features.shape"
      ],
      "metadata": {
        "id": "x3pflzDwBwiq"
      },
      "execution_count": null,
      "outputs": []
    },
    {
      "cell_type": "markdown",
      "source": [
        "Using tf-idf to build features"
      ],
      "metadata": {
        "id": "O8-Km51TB6Xf"
      }
    },
    {
      "cell_type": "code",
      "source": [
        "tv = TfidfVectorizer(min_df=0.0, max_df=1.0, ngram_range=(1,2),\n",
        "                     sublinear_tf=True)\n",
        "tv_train_features = tv.fit_transform(phrase_train)"
      ],
      "metadata": {
        "id": "y5l1QaS-B5qd"
      },
      "execution_count": null,
      "outputs": []
    },
    {
      "cell_type": "code",
      "source": [
        "tv_test_features = tv.transform(phrase_test)"
      ],
      "metadata": {
        "id": "D414ZaKoCDFe"
      },
      "execution_count": null,
      "outputs": []
    },
    {
      "cell_type": "code",
      "source": [
        "tv_train_features.shape"
      ],
      "metadata": {
        "id": "QqXqnkPbCSD6"
      },
      "execution_count": null,
      "outputs": []
    },
    {
      "cell_type": "code",
      "source": [
        "from sklearn.linear_model import SGDClassifier, LogisticRegression\n",
        "\n",
        "lr = LogisticRegression(penalty='l2', max_iter=100, C=1)"
      ],
      "metadata": {
        "id": "wQLKyEq4Dox_"
      },
      "execution_count": null,
      "outputs": []
    },
    {
      "cell_type": "code",
      "source": [
        "def train_predict_model(classifier, \n",
        "                        train_features, train_labels, \n",
        "                        test_features, test_labels):\n",
        "    # build model    \n",
        "    classifier.fit(train_features, train_labels)\n",
        "    # predict using model\n",
        "    predictions = classifier.predict(test_features) \n",
        "    return predictions "
      ],
      "metadata": {
        "id": "kcB24Q3K4Re1"
      },
      "execution_count": null,
      "outputs": []
    },
    {
      "cell_type": "code",
      "source": [
        "from sklearn import metrics\n",
        "from sklearn.metrics import roc_curve, auc \n",
        "def get_metrics(true_labels, predicted_labels):\n",
        "    \n",
        "    print('Accuracy:', np.round(\n",
        "                        metrics.accuracy_score(true_labels, \n",
        "                                               predicted_labels),\n",
        "                        4))\n",
        "    print('Precision:', np.round(\n",
        "                        metrics.precision_score(true_labels, \n",
        "                                               predicted_labels,\n",
        "                                               average='weighted'),\n",
        "                        4))\n",
        "    print('Recall:', np.round(\n",
        "                        metrics.recall_score(true_labels, \n",
        "                                               predicted_labels,\n",
        "                                               average='weighted'),\n",
        "                        4))\n",
        "    print('F1 Score:', np.round(\n",
        "                        metrics.f1_score(true_labels, \n",
        "                                               predicted_labels,\n",
        "                                               average='weighted'),\n",
        "                        4))\n",
        "                        "
      ],
      "metadata": {
        "id": "FCirW2BTEaHj"
      },
      "execution_count": null,
      "outputs": []
    },
    {
      "cell_type": "code",
      "source": [
        "lr_tfidf_predictions = train_predict_model(classifier=lr, \n",
        "                                               train_features=tv_train_features, train_labels=sentiments_train,\n",
        "                                               test_features=tv_test_features, test_labels=sentiments_test)\n"
      ],
      "metadata": {
        "id": "oJZZdAAG7PFI"
      },
      "execution_count": null,
      "outputs": []
    },
    {
      "cell_type": "code",
      "source": [
        "get_metrics(true_labels=sentiments_test, predicted_labels=lr_tfidf_predictions)"
      ],
      "metadata": {
        "id": "C-z5_hOcExXt"
      },
      "execution_count": null,
      "outputs": []
    },
    {
      "cell_type": "code",
      "source": [
        "from sklearn.ensemble import RandomForestClassifier\n",
        "rf = RandomForestClassifier(n_estimators = 50, random_state = 42)\n",
        "rf.fit(tv_train_features, sentiments_train)\n",
        "predictions = rf.predict(tv_test_features)\n"
      ],
      "metadata": {
        "id": "R9jLEzKQEAH9"
      },
      "execution_count": null,
      "outputs": []
    },
    {
      "cell_type": "code",
      "source": [
        "import pickle\n",
        "pickle.dump(rf, open('rfmodel.pkl', 'wb'))"
      ],
      "metadata": {
        "id": "GDy-msT_HpEN"
      },
      "execution_count": null,
      "outputs": []
    },
    {
      "cell_type": "code",
      "source": [
        "get_metrics(true_labels=sentiments_test, predicted_labels=lr_tfidf_predictions)"
      ],
      "metadata": {
        "id": "-5svKD36i0YP"
      },
      "execution_count": null,
      "outputs": []
    },
    {
      "cell_type": "code",
      "source": [],
      "metadata": {
        "id": "1MQZML6GwASa"
      },
      "execution_count": null,
      "outputs": []
    }
  ]
}